{
  "nbformat": 4,
  "nbformat_minor": 0,
  "metadata": {
    "colab": {
      "name": "Face Recognition Train",
      "provenance": [],
      "collapsed_sections": [],
      "authorship_tag": "ABX9TyOViz0AzOUBBavF/iDpHpZs",
      "include_colab_link": true
    },
    "kernelspec": {
      "name": "python3",
      "display_name": "Python 3"
    },
    "accelerator": "GPU"
  },
  "cells": [
    {
      "cell_type": "markdown",
      "metadata": {
        "id": "view-in-github",
        "colab_type": "text"
      },
      "source": [
        "<a href=\"https://colab.research.google.com/github/dude123studios/SmarterRing/blob/master/Face_Recognition_Train.ipynb\" target=\"_parent\"><img src=\"https://colab.research.google.com/assets/colab-badge.svg\" alt=\"Open In Colab\"/></a>"
      ]
    },
    {
      "cell_type": "code",
      "metadata": {
        "id": "SygHWZxrAhaf"
      },
      "source": [
        "import tensorflow as tf\r\n",
        "import numpy as np\r\n",
        "from tensorflow.keras.layers import *\r\n",
        "import matplotlib.pyplot as plt\r\n",
        "import os\r\n",
        "import random\r\n",
        "import cv2"
      ],
      "execution_count": null,
      "outputs": []
    },
    {
      "cell_type": "code",
      "metadata": {
        "id": "BCPtB-Lu1IXI"
      },
      "source": [
        "from google.colab import files\r\n",
        "files.upload()\r\n",
        "#I must manually import my cropped dataset\r\n",
        "!mkdir datasets\r\n",
        "!unzip bollywood_celeb_faces.zip -d ./datasets"
      ],
      "execution_count": null,
      "outputs": []
    },
    {
      "cell_type": "code",
      "metadata": {
        "id": "yWFS4lkE3So5"
      },
      "source": [
        "def load_img(image_path):\r\n",
        "  with open(image_path, 'rb') as f:\r\n",
        "    return np.load(f)"
      ],
      "execution_count": null,
      "outputs": []
    },
    {
      "cell_type": "code",
      "metadata": {
        "id": "Z7UsX_5WlRFH"
      },
      "source": [
        "path = './datasets/usr/local/numpy/bollywood_celeb_faces/'\r\n",
        "faces = []\r\n",
        "for actor in os.listdir(path):\r\n",
        "  faces.append([load_img(path+'/'+actor+'/'+actor_img) for actor_img in os.listdir(os.path.join(path,actor))])"
      ],
      "execution_count": null,
      "outputs": []
    },
    {
      "cell_type": "code",
      "metadata": {
        "id": "ELb-UuVFChv-"
      },
      "source": [
        "pairs1 = []\r\n",
        "pairs2 = []\r\n",
        "#produces about 500,000 image pairs, so we only take 40,000 for training time\r\n",
        "total = 40000\r\n",
        "labels = []\r\n",
        "#distance between congruent faces is 0\r\n",
        "congruent_label = np.asarray([0])\r\n",
        "for class_ in faces:\r\n",
        "  for i in range(total // len(faces)):\r\n",
        "    j = random.randint(0,len(class_)-2)\r\n",
        "    k = random.randint(j+1, len(class_)-1)\r\n",
        "    pairs1.append(class_[j])\r\n",
        "    pairs2.append(class_[k])\r\n",
        "    labels.append(congruent_label)\r\n",
        "#all non congruent pairs form 10m pairs which is far too much, \r\n",
        "#so we will randomly choose 40,000\r\n",
        "#giving us a more reasonable 80,000 total images, since a lot of epochs will be required\r\n",
        "#distant pairs will have a sigmoided distance of 1\r\n",
        "non_congruent_label = np.asarray([1])\r\n",
        "for i in range(total):\r\n",
        "  j = random.randint(0,len(faces)-2)\r\n",
        "  k = random.randint(j+1,len(faces)-1)\r\n",
        "  l = random.randint(0,len(faces[j])-1)\r\n",
        "  m = random.randint(0,len(faces[k])-1)\r\n",
        "  pairs1.append(faces[j][l])\r\n",
        "  pairs2.append(faces[k][m])\r\n",
        "  labels.append(non_congruent_label)\r\n",
        "del faces"
      ],
      "execution_count": null,
      "outputs": []
    },
    {
      "cell_type": "code",
      "metadata": {
        "id": "Q3Yc9D2vFpw9"
      },
      "source": [
        "def shuffle_in_unison(a, b, c):\r\n",
        "    shuffled_a = np.empty((len(a),64,64,3), dtype=np.float32)\r\n",
        "    shuffled_b = np.empty((len(a),64,64,3), dtype=np.float32)\r\n",
        "    shuffled_c = np.empty((len(c),1), dtype=np.float32)\r\n",
        "    permutation = np.random.permutation(len(a))\r\n",
        "    for old_index, new_index in enumerate(permutation):\r\n",
        "        shuffled_a[new_index] = a[old_index]\r\n",
        "        shuffled_b[new_index] = b[old_index]\r\n",
        "        shuffled_c[new_index] = c[old_index]\r\n",
        "    return shuffled_a, shuffled_b, shuffled_c\r\n",
        "pairs1, pairs2, labels = shuffle_in_unison(pairs1, pairs2, labels)"
      ],
      "execution_count": null,
      "outputs": []
    },
    {
      "cell_type": "code",
      "metadata": {
        "colab": {
          "base_uri": "https://localhost:8080/",
          "height": 162
        },
        "id": "3Jc0XEPWDTHq",
        "outputId": "d3bffadf-095b-46aa-8dbf-2e8ce31022d6"
      },
      "source": [
        "from google.colab.patches import cv2_imshow\r\n",
        "cv2_imshow((pairs1[600]+1)*127.5)\r\n",
        "cv2_imshow((pairs2[600]+1)*127.5)\r\n",
        "print('label: ', str(labels[600]))"
      ],
      "execution_count": null,
      "outputs": [
        {
          "output_type": "display_data",
          "data": {
            "image/png": "[encoded data removed]",
            "text/plain": [
              "<PIL.Image.Image image mode=RGB size=64x64 at 0x7F010B70C470>"
            ]
          },
          "metadata": {
            "tags": []
          }
        },
        {
          "output_type": "display_data",
          "data": {
            "image/png": "[encoded data removed]",
            "text/plain": [
              "<PIL.Image.Image image mode=RGB size=64x64 at 0x7F010B70C550>"
            ]
          },
          "metadata": {
            "tags": []
          }
        },
        {
          "output_type": "stream",
          "text": [
            "label:  [0.]\n"
          ],
          "name": "stdout"
        }
      ]
    },
    {
      "cell_type": "markdown",
      "metadata": {
        "id": "Rwm9i6A0vNZs"
      },
      "source": [
        "We have one model which learns about facial features with conv layers and another that learns facial diferentiation  with just a couple of dense layers to a singular nueron which will be 0 for true and 1 for false wether or not two faces are of the same person"
      ]
    },
    {
      "cell_type": "code",
      "metadata": {
        "id": "9PEnWbEbwo58"
      },
      "source": [
        "class CNN_Block(tf.keras.Model):\r\n",
        "  def __init__(self, num_filters, conv_size):\r\n",
        "    super(CNN_Block, self).__init__()\r\n",
        "    self.conv = Conv2D(num_filters, conv_size, padding='same')\r\n",
        "    self.bn = BatchNormalization()\r\n",
        "    #self.dropout = Dropout(0.2)\r\n",
        "    self.pool = MaxPool2D()\r\n",
        "\r\n",
        "  def call(self, x):\r\n",
        "    x = self.conv(x)\r\n",
        "    x = self.bn(x)\r\n",
        "    x = tf.nn.relu(x)\r\n",
        "    #x = self.dropout(x)\r\n",
        "    x = self.pool(x)\r\n",
        "    return x"
      ],
      "execution_count": null,
      "outputs": []
    },
    {
      "cell_type": "code",
      "metadata": {
        "id": "Pa-dasdwCcrK"
      },
      "source": [
        "class Encoder(tf.keras.Model):\r\n",
        "  def __init__(self):\r\n",
        "    super(Encoder, self).__init__()\r\n",
        "    self.block1 = CNN_Block(32, 3)\r\n",
        "    self.block2 = CNN_Block(64, 3)\r\n",
        "    self.block3 = CNN_Block(128, 3)\r\n",
        "    self.block4 = CNN_Block(256, 3)\r\n",
        "    self.flatten = Flatten()\r\n",
        "    self.dense = Dense(1024, activation='relu')\r\n",
        "\r\n",
        "  def call(self, x):\r\n",
        "    x = self.block1(x)\r\n",
        "    x = self.block2(x)\r\n",
        "    x = self.block3(x)\r\n",
        "    x = self.block4(x)\r\n",
        "    x = self.flatten(x)\r\n",
        "    x = self.dense(x)\r\n",
        "    return x"
      ],
      "execution_count": null,
      "outputs": []
    },
    {
      "cell_type": "code",
      "metadata": {
        "id": "JXGJx49Jy6XR"
      },
      "source": [
        "class Euclidean_Distance(tf.keras.Model):\r\n",
        "  def __init__(self):\r\n",
        "    super(Euclidean_Distance, self).__init__()\r\n",
        "    self.dense1 = Dense(512, activation='relu')\r\n",
        "    self.dense2 = Dense(128, activation='relu')\r\n",
        "    self.dense3 = Dense(1, activation='sigmoid')\r\n",
        "\r\n",
        "  def call(self, xA, xB):\r\n",
        "    concat = tf.concat((xA,xB),axis=-1)\r\n",
        "    x = self.dense1(concat)\r\n",
        "    x = self.dense2(x)\r\n",
        "    x = self.dense3(x)\r\n",
        "    return x"
      ],
      "execution_count": null,
      "outputs": []
    },
    {
      "cell_type": "code",
      "metadata": {
        "id": "BqiEbzfM_oNJ"
      },
      "source": [
        "def build_model():\r\n",
        "  imgA = Input((64,64,3), dtype=tf.float32, name='inputA')\r\n",
        "  imgB = Input((64,64,3), dtype=tf.float32, name='inputB')\r\n",
        "  encoder = Encoder()\r\n",
        "  featA = encoder(imgA)\r\n",
        "  featB = encoder(imgB)\r\n",
        "  dist = Euclidean_Distance()\r\n",
        "  outputs = dist(featA, featB)\r\n",
        "  model = tf.keras.Model(inputs=(imgA, imgB),outputs=outputs)\r\n",
        "  \r\n",
        "  model.compile(loss='binary_crossentropy',optimizer='adam', metrics='accuracy')\r\n",
        "  model.summary()\r\n",
        "  return model"
      ],
      "execution_count": null,
      "outputs": []
    },
    {
      "cell_type": "code",
      "metadata": {
        "colab": {
          "base_uri": "https://localhost:8080/"
        },
        "id": "bpSYGtR7VjZP",
        "outputId": "7a925401-303c-4c7b-ebf8-9c9b6ad8fa0d"
      },
      "source": [
        "with tf.device('gpu:0'):\r\n",
        "  inputs = {'inputA':pairs1, 'inputB':pairs2}\r\n",
        "  model = build_model()\r\n",
        "  model.fit(inputs, labels, epochs=50, batch_size=64)"
      ],
      "execution_count": null,
      "outputs": [
        {
          "output_type": "stream",
          "text": [
            "Model: \"model_2\"\n",
            "__________________________________________________________________________________________________\n",
            "Layer (type)                    Output Shape         Param #     Connected to                     \n",
            "==================================================================================================\n",
            "inputA (InputLayer)             [(None, 64, 64, 3)]  0                                            \n",
            "__________________________________________________________________________________________________\n",
            "inputB (InputLayer)             [(None, 64, 64, 3)]  0                                            \n",
            "__________________________________________________________________________________________________\n",
            "encoder_2 (Encoder)             (None, 1024)         4585664     inputA[0][0]                     \n",
            "                                                                 inputB[0][0]                     \n",
            "__________________________________________________________________________________________________\n",
            "euclidean__distance_2 (Euclidea (None, 1)            1114881     encoder_2[0][0]                  \n",
            "                                                                 encoder_2[1][0]                  \n",
            "==================================================================================================\n",
            "Total params: 5,700,545\n",
            "Trainable params: 5,699,585\n",
            "Non-trainable params: 960\n",
            "__________________________________________________________________________________________________\n",
            "Epoch 1/50\n",
            "1250/1250 [==============================] - 35s 27ms/step - loss: 0.8252 - accuracy: 0.5480\n",
            "Epoch 2/50\n",
            "1250/1250 [==============================] - 34s 27ms/step - loss: 0.5184 - accuracy: 0.7220\n",
            "Epoch 3/50\n",
            "1250/1250 [==============================] - 34s 27ms/step - loss: 0.4971 - accuracy: 0.7352\n",
            "Epoch 4/50\n",
            "1250/1250 [==============================] - 34s 27ms/step - loss: 0.4808 - accuracy: 0.7525\n",
            "Epoch 5/50\n",
            "1250/1250 [==============================] - 34s 27ms/step - loss: 0.4586 - accuracy: 0.7702\n",
            "Epoch 6/50\n",
            "1250/1250 [==============================] - 34s 27ms/step - loss: 0.4346 - accuracy: 0.7901\n",
            "Epoch 7/50\n",
            "1250/1250 [==============================] - 34s 27ms/step - loss: 0.3972 - accuracy: 0.8163\n",
            "Epoch 8/50\n",
            "1250/1250 [==============================] - 34s 27ms/step - loss: 0.3707 - accuracy: 0.8323\n",
            "Epoch 9/50\n",
            "1250/1250 [==============================] - 34s 27ms/step - loss: 0.3371 - accuracy: 0.8530\n",
            "Epoch 10/50\n",
            "1250/1250 [==============================] - 34s 27ms/step - loss: 0.3185 - accuracy: 0.8637\n",
            "Epoch 11/50\n",
            "1250/1250 [==============================] - 34s 27ms/step - loss: 0.2974 - accuracy: 0.8730\n",
            "Epoch 12/50\n",
            "1250/1250 [==============================] - 34s 27ms/step - loss: 0.2881 - accuracy: 0.8793\n",
            "Epoch 13/50\n",
            "1250/1250 [==============================] - 34s 27ms/step - loss: 0.2730 - accuracy: 0.8866\n",
            "Epoch 14/50\n",
            "1250/1250 [==============================] - 34s 27ms/step - loss: 0.2668 - accuracy: 0.8907\n",
            "Epoch 15/50\n",
            "1250/1250 [==============================] - 34s 27ms/step - loss: 0.2539 - accuracy: 0.8978\n",
            "Epoch 16/50\n",
            "1250/1250 [==============================] - 34s 27ms/step - loss: 0.2477 - accuracy: 0.9001\n",
            "Epoch 17/50\n",
            "1250/1250 [==============================] - 34s 27ms/step - loss: 0.2442 - accuracy: 0.9018\n",
            "Epoch 18/50\n",
            "1250/1250 [==============================] - 34s 27ms/step - loss: 0.2381 - accuracy: 0.9054\n",
            "Epoch 19/50\n",
            "1250/1250 [==============================] - 34s 27ms/step - loss: 0.2322 - accuracy: 0.9077\n",
            "Epoch 20/50\n",
            "1250/1250 [==============================] - 34s 27ms/step - loss: 0.2294 - accuracy: 0.9118\n",
            "Epoch 21/50\n",
            "1250/1250 [==============================] - 34s 27ms/step - loss: 0.2270 - accuracy: 0.9111\n",
            "Epoch 22/50\n",
            "1250/1250 [==============================] - 34s 27ms/step - loss: 0.2148 - accuracy: 0.9170\n",
            "Epoch 23/50\n",
            "1250/1250 [==============================] - 34s 27ms/step - loss: 0.2168 - accuracy: 0.9159\n",
            "Epoch 24/50\n",
            "1250/1250 [==============================] - 34s 27ms/step - loss: 0.2139 - accuracy: 0.9178\n",
            "Epoch 25/50\n",
            "1250/1250 [==============================] - 34s 27ms/step - loss: 0.2071 - accuracy: 0.9210\n",
            "Epoch 26/50\n",
            "1250/1250 [==============================] - 34s 27ms/step - loss: 0.2058 - accuracy: 0.9217\n",
            "Epoch 27/50\n",
            "1250/1250 [==============================] - 34s 27ms/step - loss: 0.1993 - accuracy: 0.9238\n",
            "Epoch 28/50\n",
            "1250/1250 [==============================] - 34s 27ms/step - loss: 0.2000 - accuracy: 0.9246\n",
            "Epoch 29/50\n",
            "1250/1250 [==============================] - 34s 27ms/step - loss: 0.1979 - accuracy: 0.9253\n",
            "Epoch 30/50\n",
            "1250/1250 [==============================] - 34s 27ms/step - loss: 0.1999 - accuracy: 0.9237\n",
            "Epoch 31/50\n",
            "1250/1250 [==============================] - 34s 27ms/step - loss: 0.1888 - accuracy: 0.9297\n",
            "Epoch 32/50\n",
            "1250/1250 [==============================] - 34s 27ms/step - loss: 0.1888 - accuracy: 0.9304\n",
            "Epoch 33/50\n",
            "1250/1250 [==============================] - 34s 27ms/step - loss: 0.1853 - accuracy: 0.9293\n",
            "Epoch 34/50\n",
            "1250/1250 [==============================] - 34s 27ms/step - loss: 0.1841 - accuracy: 0.9303\n",
            "Epoch 35/50\n",
            "1250/1250 [==============================] - 34s 27ms/step - loss: 0.1805 - accuracy: 0.9326\n",
            "Epoch 36/50\n",
            "1250/1250 [==============================] - 34s 27ms/step - loss: 0.1831 - accuracy: 0.9312\n",
            "Epoch 37/50\n",
            "1250/1250 [==============================] - 34s 27ms/step - loss: 0.1810 - accuracy: 0.9332\n",
            "Epoch 38/50\n",
            "1250/1250 [==============================] - 34s 27ms/step - loss: 0.1783 - accuracy: 0.9345\n",
            "Epoch 39/50\n",
            "1250/1250 [==============================] - 34s 27ms/step - loss: 0.1735 - accuracy: 0.9352\n",
            "Epoch 40/50\n",
            "1250/1250 [==============================] - 34s 27ms/step - loss: 0.1733 - accuracy: 0.9358\n",
            "Epoch 41/50\n",
            "1250/1250 [==============================] - 34s 27ms/step - loss: 0.1720 - accuracy: 0.9368\n",
            "Epoch 42/50\n",
            "1250/1250 [==============================] - 34s 27ms/step - loss: 0.1672 - accuracy: 0.9392\n",
            "Epoch 43/50\n",
            "1250/1250 [==============================] - 34s 27ms/step - loss: 0.1669 - accuracy: 0.9380\n",
            "Epoch 44/50\n",
            "1250/1250 [==============================] - 34s 27ms/step - loss: 0.1662 - accuracy: 0.9394\n",
            "Epoch 45/50\n",
            "1250/1250 [==============================] - 34s 27ms/step - loss: 0.1632 - accuracy: 0.9409\n",
            "Epoch 46/50\n",
            "1250/1250 [==============================] - 34s 27ms/step - loss: 0.1630 - accuracy: 0.9400\n",
            "Epoch 47/50\n",
            "1250/1250 [==============================] - 34s 27ms/step - loss: 0.1618 - accuracy: 0.9411\n",
            "Epoch 48/50\n",
            "1250/1250 [==============================] - 34s 27ms/step - loss: 0.1575 - accuracy: 0.9433\n",
            "Epoch 49/50\n",
            "1250/1250 [==============================] - 34s 27ms/step - loss: 0.1527 - accuracy: 0.9440\n",
            "Epoch 50/50\n",
            "1250/1250 [==============================] - 34s 27ms/step - loss: 0.1504 - accuracy: 0.9449\n"
          ],
          "name": "stdout"
        }
      ]
    },
    {
      "cell_type": "code",
      "metadata": {
        "colab": {
          "base_uri": "https://localhost:8080/",
          "height": 179
        },
        "id": "YGyKWN3oJcyx",
        "outputId": "b348215f-8ff2-4fb9-d7e4-c7f15ea5e9a2"
      },
      "source": [
        "out = model({'inputA':np.expand_dims(pairs1[0],axis=0),'inputB':np.expand_dims(pairs2[0],axis=0)})\r\n",
        "from google.colab.patches import cv2_imshow\r\n",
        "cv2_imshow((pairs1[0]+1)*127.5)\r\n",
        "cv2_imshow((pairs2[0]+1)*127.5)\r\n",
        "print('label: ', str(labels[0]))\r\n",
        "print('Model pred: ',str(out.numpy()))"
      ],
      "execution_count": null,
      "outputs": [
        {
          "output_type": "display_data",
          "data": {
            "image/png": "[encoded data removed]",
            "text/plain": [
              "<PIL.Image.Image image mode=RGB size=64x64 at 0x7F00AC0ABE10>"
            ]
          },
          "metadata": {
            "tags": []
          }
        },
        {
          "output_type": "display_data",
          "data": {
            "image/png": "[encoded data removed]",
            "text/plain": [
              "<PIL.Image.Image image mode=RGB size=64x64 at 0x7F00AC0ABC50>"
            ]
          },
          "metadata": {
            "tags": []
          }
        },
        {
          "output_type": "stream",
          "text": [
            "label:  [0.]\n",
            "Model pred:  [[0.01690634]]\n"
          ],
          "name": "stdout"
        }
      ]
    },
    {
      "cell_type": "code",
      "metadata": {
        "id": "oFnOuBNTPwyO"
      },
      "source": [
        "model.save_weights('better_face_recogniton.h5')"
      ],
      "execution_count": null,
      "outputs": []
    }
  ]
}