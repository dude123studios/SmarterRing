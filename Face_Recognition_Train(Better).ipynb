{
  "nbformat": 4,
  "nbformat_minor": 0,
  "metadata": {
    "colab": {
      "name": "Face Recognition Train",
      "provenance": [],
      "collapsed_sections": [],
      "authorship_tag": "ABX9TyObA5oEWjXFGMOnzvD4Y4Dk",
      "include_colab_link": true
    },
    "kernelspec": {
      "name": "python3",
      "display_name": "Python 3"
    },
    "accelerator": "GPU"
  },
  "cells": [
    {
      "cell_type": "markdown",
      "metadata": {
        "id": "view-in-github",
        "colab_type": "text"
      },
      "source": [
        "<a href=\"https://colab.research.google.com/github/dude123studios/SmarterRing/blob/master/Face_Recognition_Train(Better).ipynb\" target=\"_parent\"><img src=\"https://colab.research.google.com/assets/colab-badge.svg\" alt=\"Open In Colab\"/></a>"
      ]
    },
    {
      "cell_type": "code",
      "metadata": {
        "id": "SygHWZxrAhaf"
      },
      "source": [
        "import tensorflow as tf\r\n",
        "import numpy as np\r\n",
        "from tensorflow.keras.layers import *\r\n",
        "import matplotlib.pyplot as plt\r\n",
        "import os\r\n",
        "import random\r\n",
        "import cv2"
      ],
      "execution_count": 1,
      "outputs": []
    },
    {
      "cell_type": "code",
      "metadata": {
        "id": "BCPtB-Lu1IXI"
      },
      "source": [
        "from google.colab import files\r\n",
        "files.upload()\r\n",
        "#I must manually import my cropped dataset\r\n",
        "!mkdir datasets\r\n",
        "!unzip bollywood_celeb_faces.zip -d ./datasets"
      ],
      "execution_count": null,
      "outputs": []
    },
    {
      "cell_type": "code",
      "metadata": {
        "id": "yWFS4lkE3So5"
      },
      "source": [
        "def load_img(image_path):\r\n",
        "  with open(image_path, 'rb') as f:\r\n",
        "    return np.load(f)"
      ],
      "execution_count": 3,
      "outputs": []
    },
    {
      "cell_type": "code",
      "metadata": {
        "id": "Z7UsX_5WlRFH"
      },
      "source": [
        "path = './datasets/usr/local/numpy/bollywood_celeb_faces/'\r\n",
        "faces = []\r\n",
        "for actor in os.listdir(path):\r\n",
        "  faces.append([load_img(path+'/'+actor+'/'+actor_img) for actor_img in os.listdir(os.path.join(path,actor))])"
      ],
      "execution_count": 4,
      "outputs": []
    },
    {
      "cell_type": "code",
      "metadata": {
        "id": "ELb-UuVFChv-"
      },
      "source": [
        "pairs1 = []\r\n",
        "pairs2 = []\r\n",
        "#produces about 500,000 image pairs, so we only take 50,000 for training time\r\n",
        "total = 50000\r\n",
        "labels = []\r\n",
        "#distance between congruent faces is 0\r\n",
        "congruent_label = np.asarray([0])\r\n",
        "for class_ in faces:\r\n",
        "  for i in range(total // len(faces)):\r\n",
        "    j = random.randint(0,len(class_)-2)\r\n",
        "    k = random.randint(j+1, len(class_)-1)\r\n",
        "    pairs1.append(class_[j])\r\n",
        "    pairs2.append(class_[k])\r\n",
        "    labels.append(congruent_label)\r\n",
        "#all non congruent pairs form 40m pairs which is far too much, \r\n",
        "#so we will randomly choose 50,000\r\n",
        "#giving us a more reasonable 100,000 total images, since a lot of epochs will be required\r\n",
        "#distant pairs will have a sigmoided distance of 1\r\n",
        "non_congruent_label = np.asarray([1])\r\n",
        "for i in range(total):\r\n",
        "  j = random.randint(0,len(faces)-2)\r\n",
        "  k = random.randint(j+1,len(faces)-1)\r\n",
        "  l = random.randint(0,len(faces[j])-1)\r\n",
        "  m = random.randint(0,len(faces[k])-1)\r\n",
        "  pairs1.append(faces[j][l])\r\n",
        "  pairs2.append(faces[k][m])\r\n",
        "  labels.append(non_congruent_label)\r\n",
        "del faces"
      ],
      "execution_count": 5,
      "outputs": []
    },
    {
      "cell_type": "code",
      "metadata": {
        "id": "Q3Yc9D2vFpw9"
      },
      "source": [
        "def shuffle_in_unison(a, b, c):\r\n",
        "    shuffled_a = np.empty((len(a),64,64,3), dtype=np.float32)\r\n",
        "    shuffled_b = np.empty((len(a),64,64,3), dtype=np.float32)\r\n",
        "    shuffled_c = np.empty((len(c),1), dtype=np.float32)\r\n",
        "    permutation = np.random.permutation(len(a))\r\n",
        "    for old_index, new_index in enumerate(permutation):\r\n",
        "        shuffled_a[new_index] = a[old_index]\r\n",
        "        shuffled_b[new_index] = b[old_index]\r\n",
        "        shuffled_c[new_index] = c[old_index]\r\n",
        "    return shuffled_a, shuffled_b, shuffled_c\r\n",
        "pairs1, pairs2, labels = shuffle_in_unison(pairs1, pairs2, labels)"
      ],
      "execution_count": 6,
      "outputs": []
    },
    {
      "cell_type": "code",
      "metadata": {
        "colab": {
          "base_uri": "https://localhost:8080/",
          "height": 162
        },
        "id": "3Jc0XEPWDTHq",
        "outputId": "3883e27f-5eef-4c3b-bc0d-6357a65b4d3b"
      },
      "source": [
        "from google.colab.patches import cv2_imshow\r\n",
        "cv2_imshow((pairs1[600]+1)*127.5)\r\n",
        "cv2_imshow((pairs2[600]+1)*127.5)\r\n",
        "print('label: ', str(labels[600]))"
      ],
      "execution_count": 7,
      "outputs": [
        {
          "output_type": "display_data",
          "data": {
            "image/png": "[encoded data removed]",
            "text/plain": [
              "<PIL.Image.Image image mode=RGB size=64x64 at 0x7FDE6E66EC90>"
            ]
          },
          "metadata": {
            "tags": []
          }
        },
        {
          "output_type": "display_data",
          "data": {
            "image/png": "[encoded data removed]",
            "text/plain": [
              "<PIL.Image.Image image mode=RGB size=64x64 at 0x7FDE6E66EF90>"
            ]
          },
          "metadata": {
            "tags": []
          }
        },
        {
          "output_type": "stream",
          "text": [
            "label:  [0.]\n"
          ],
          "name": "stdout"
        }
      ]
    },
    {
      "cell_type": "markdown",
      "metadata": {
        "id": "Rwm9i6A0vNZs"
      },
      "source": [
        "We have one model which learns about facial features with conv layers and another that learns facial diferentiation  with just a couple of dense layers to a singular nueron which will be 0 for true and 1 for false wether or not two faces are of the same person"
      ]
    },
    {
      "cell_type": "code",
      "metadata": {
        "id": "9PEnWbEbwo58"
      },
      "source": [
        "class CNN_Block(tf.keras.Model):\r\n",
        "  def __init__(self, num_filters, conv_size):\r\n",
        "    super(CNN_Block, self).__init__()\r\n",
        "    self.conv = Conv2D(num_filters, conv_size, padding='same')\r\n",
        "    self.bn = BatchNormalization()\r\n",
        "    self.pool = MaxPool2D()\r\n",
        "\r\n",
        "  def call(self, x):\r\n",
        "    x = self.conv(x)\r\n",
        "    x = self.bn(x)\r\n",
        "    x = tf.nn.relu(x)\r\n",
        "    x = self.pool(x)\r\n",
        "    return x"
      ],
      "execution_count": 8,
      "outputs": []
    },
    {
      "cell_type": "code",
      "metadata": {
        "id": "Pa-dasdwCcrK"
      },
      "source": [
        "class Encoder(tf.keras.Model):\r\n",
        "  def __init__(self):\r\n",
        "    super(Encoder, self).__init__()\r\n",
        "    self.block1 = CNN_Block(32, 3)\r\n",
        "    self.block2 = CNN_Block(64, 3)\r\n",
        "    self.block3 = CNN_Block(128, 3)\r\n",
        "    self.block4 = CNN_Block(256, 3)\r\n",
        "    self.flatten = Flatten()\r\n",
        "    self.dense = Dense(1024, activation='relu')\r\n",
        "\r\n",
        "  def call(self, x):\r\n",
        "    x = self.block1(x)\r\n",
        "    x = self.block2(x)\r\n",
        "    x = self.block3(x)\r\n",
        "    x = self.block4(x)\r\n",
        "    x = self.flatten(x)\r\n",
        "    x = self.dense(x)\r\n",
        "    return x"
      ],
      "execution_count": 9,
      "outputs": []
    },
    {
      "cell_type": "code",
      "metadata": {
        "id": "JXGJx49Jy6XR"
      },
      "source": [
        "class Euclidean_Distance(tf.keras.Model):\r\n",
        "  def __init__(self):\r\n",
        "    super(Euclidean_Distance, self).__init__()\r\n",
        "    self.dense1 = Dense(512, activation='relu')\r\n",
        "    self.dense2 = Dense(128, activation='relu')\r\n",
        "    self.dense3 = Dense(1, activation='sigmoid')\r\n",
        "\r\n",
        "  def call(self, xA, xB):\r\n",
        "    concat = tf.concat((xA,xB),axis=-1)\r\n",
        "    x = self.dense1(concat)\r\n",
        "    x = self.dense2(x)\r\n",
        "    x = self.dense3(x)\r\n",
        "    return x"
      ],
      "execution_count": 25,
      "outputs": []
    },
    {
      "cell_type": "code",
      "metadata": {
        "id": "BqiEbzfM_oNJ"
      },
      "source": [
        "def build_model():\r\n",
        "  imgA = Input((64,64,3), dtype=tf.float32, name='inputA')\r\n",
        "  imgB = Input((64,64,3), dtype=tf.float32, name='inputB')\r\n",
        "  encoder = Encoder()\r\n",
        "  featA = encoder(imgA)\r\n",
        "  featB = encoder(imgB)\r\n",
        "  dist = Euclidean_Distance()\r\n",
        "  outputs = dist(featA, featB)\r\n",
        "  model = tf.keras.Model(inputs=(imgA, imgB),outputs=outputs)\r\n",
        "  \r\n",
        "  model.compile(loss='binary_crossentropy',optimizer='adam', metrics='accuracy')\r\n",
        "  model.summary()\r\n",
        "  return model"
      ],
      "execution_count": 26,
      "outputs": []
    },
    {
      "cell_type": "code",
      "metadata": {
        "id": "bpSYGtR7VjZP"
      },
      "source": [
        "with tf.device('gpu:0'):\r\n",
        "  inputs = {'inputA':pairs1, 'inputB':pairs2}\r\n",
        "  model = build_model()\r\n",
        "  model.fit(inputs, labels, epochs=150, batch_size=64)"
      ],
      "execution_count": null,
      "outputs": []
    },
    {
      "cell_type": "code",
      "metadata": {
        "colab": {
          "base_uri": "https://localhost:8080/",
          "height": 179
        },
        "id": "YGyKWN3oJcyx",
        "outputId": "ea50dc4d-49a5-4689-ae78-e678360a87c9"
      },
      "source": [
        "out = model({'inputA':np.expand_dims(pairs1[600],axis=0),'inputB':np.expand_dims(pairs2[600],axis=0)})\r\n",
        "from google.colab.patches import cv2_imshow\r\n",
        "cv2_imshow((pairs1[600]+1)*127.5)\r\n",
        "cv2_imshow((pairs2[600]+1)*127.5)\r\n",
        "print('label: ', str(labels[600]))\r\n",
        "print('Model pred: ',str(out.numpy()))"
      ],
      "execution_count": 33,
      "outputs": [
        {
          "output_type": "display_data",
          "data": {
            "image/png": "[encoded data removed]",
            "text/plain": [
              "<PIL.Image.Image image mode=RGB size=64x64 at 0x7FDDCA649B10>"
            ]
          },
          "metadata": {
            "tags": []
          }
        },
        {
          "output_type": "display_data",
          "data": {
            "image/png": "[encoded data removed]",
            "text/plain": [
              "<PIL.Image.Image image mode=RGB size=64x64 at 0x7FDDCA67CB10>"
            ]
          },
          "metadata": {
            "tags": []
          }
        },
        {
          "output_type": "stream",
          "text": [
            "label:  [0.]\n",
            "Model pred:  [[0.00119848]]\n"
          ],
          "name": "stdout"
        }
      ]
    },
    {
      "cell_type": "code",
      "metadata": {
        "id": "oFnOuBNTPwyO"
      },
      "source": [
        "model.save_weights('face_recogniton.h5')"
      ],
      "execution_count": 29,
      "outputs": []
    }
  ]
}