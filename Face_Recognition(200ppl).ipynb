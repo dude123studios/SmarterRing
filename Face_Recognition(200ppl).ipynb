{
  "nbformat": 4,
  "nbformat_minor": 0,
  "metadata": {
    "colab": {
      "name": "Better Face Recognition Dataset",
      "provenance": [],
      "collapsed_sections": [],
      "authorship_tag": "ABX9TyMgsi/Wtk9jTFQ1pS3bdMga",
      "include_colab_link": true
    },
    "kernelspec": {
      "name": "python3",
      "display_name": "Python 3"
    },
    "accelerator": "GPU"
  },
  "cells": [
    {
      "cell_type": "markdown",
      "metadata": {
        "id": "view-in-github",
        "colab_type": "text"
      },
      "source": [
        "<a href=\"https://colab.research.google.com/github/dude123studios/SmarterRing/blob/master/Face_Recognition(200ppl).ipynb\" target=\"_parent\"><img src=\"https://colab.research.google.com/assets/colab-badge.svg\" alt=\"Open In Colab\"/></a>"
      ]
    },
    {
      "cell_type": "code",
      "metadata": {
        "id": "tVDqvb-48Okg"
      },
      "source": [
        "import tensorflow as tf\r\n",
        "import numpy as np\r\n",
        "from tensorflow.keras.layers import *\r\n",
        "import tensorflow.keras.backend as K\r\n",
        "import os\r\n",
        "import random\r\n",
        "import cv2"
      ],
      "execution_count": 1,
      "outputs": []
    },
    {
      "cell_type": "code",
      "metadata": {
        "id": "kLPoaifh7lS-",
        "colab": {
          "resources": {
            "http://localhost:8080/nbextensions/google.colab/files.js": {
              "data": "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",
              "ok": true,
              "headers": [
                [
                  "content-type",
                  "application/javascript"
                ]
              ],
              "status": 200,
              "status_text": ""
            }
          },
          "base_uri": "https://localhost:8080/",
          "height": 514
        },
        "outputId": "6807e63f-0447-42d4-90d6-a212fcb4b360"
      },
      "source": [
        "from google.colab import files\r\n",
        "files.upload() # Browse for the kaggle.json file that you downloaded\r\n",
        "\r\n",
        "# Make directory named kaggle, copy kaggle.json file there, and change the permissions of the file.\r\n",
        "! mkdir ~/.kaggle\r\n",
        "! cp kaggle.json ~/.kaggle/\r\n",
        "! chmod 600 ~/.kaggle/kaggle.json\r\n",
        "\r\n",
        "# You can check if everything's okay by running this command.\r\n",
        "! kaggle datasets list\r\n",
        "\r\n",
        "# Download and unzip sign-language-mnist dataset into '/usr/local'\r\n",
        "! kaggle datasets download -d hereisburak/pins-face-recognition --path '/usr/local' --unzip"
      ],
      "execution_count": 2,
      "outputs": [
        {
          "output_type": "display_data",
          "data": {
            "text/html": [
              "\n",
              "     <input type=\"file\" id=\"files-9422a6d7-d852-400e-939b-080640ca78cb\" name=\"files[]\" multiple disabled\n",
              "        style=\"border:none\" />\n",
              "     <output id=\"result-9422a6d7-d852-400e-939b-080640ca78cb\">\n",
              "      Upload widget is only available when the cell has been executed in the\n",
              "      current browser session. Please rerun this cell to enable.\n",
              "      </output>\n",
              "      <script src=\"/nbextensions/google.colab/files.js\"></script> "
            ],
            "text/plain": [
              "<IPython.core.display.HTML object>"
            ]
          },
          "metadata": {
            "tags": []
          }
        },
        {
          "output_type": "stream",
          "text": [
            "Saving kaggle.json to kaggle.json\n",
            "Warning: Looks like you're using an outdated API Version, please consider updating (server 1.5.10 / client 1.5.4)\n",
            "ref                                                       title                                         size  lastUpdated          downloadCount  \n",
            "--------------------------------------------------------  -------------------------------------------  -----  -------------------  -------------  \n",
            "michau96/restaurant-business-rankings-2020                Restaurant Business Rankings 2020             16KB  2021-01-30 14:20:45           3190  \n",
            "gpreda/reddit-wallstreetsbets-posts                       Reddit WallStreetBets Posts                    8MB  2021-02-24 07:59:48           1706  \n",
            "yorkehead/stock-market-subreddits                         Stock Market Subreddits                        1MB  2021-01-29 13:53:50            333  \n",
            "aagghh/crypto-telegram-groups                             Crypto telegram groups                       297MB  2021-02-02 09:58:25            198  \n",
            "timoboz/superbowl-history-1967-2020                       Superbowl History 1967 - 2020                  2KB  2020-02-03 23:41:14           4671  \n",
            "prondeau/superbowlads                                     Super Bowl Ads                                36KB  2020-02-04 18:04:07           1253  \n",
            "jessemostipak/african-american-achievements               African American Achievements                 28KB  2020-06-08 22:15:20            261  \n",
            "iainmcintosh/wsb-gme-reddit-submission-vs-stock-price     WSB / GME Reddit submission vs stock price   210KB  2021-01-30 15:31:16             76  \n",
            "docsouth-data/north-american-slave-narratives             North American Slave Narratives               42MB  2017-08-14 18:54:00            206  \n",
            "docsouth-data/the-church-in-the-southern-black-community  The Church in the Southern Black Community    28MB  2017-08-14 19:50:28            128  \n",
            "shivamb/netflix-shows                                     Netflix Movies and TV Shows                    1MB  2021-01-18 16:20:26          96661  \n",
            "gpreda/covid-world-vaccination-progress                   COVID-19 World Vaccination Progress           88KB  2021-02-24 07:59:06          16783  \n",
            "arashnic/hr-analytics-job-change-of-data-scientists       HR Analytics: Job Change of Data Scientists  295KB  2020-12-07 00:25:10           9728  \n",
            "jsphyg/weather-dataset-rattle-package                     Rain in Australia                              4MB  2020-12-11 10:26:12          34634  \n",
            "ayushggarg/all-trumps-twitter-insults-20152021            All Trump's Twitter insults (2015-2021)      581KB  2021-01-20 16:51:05           3558  \n",
            "sakshigoyal7/credit-card-customers                        Credit Card customers                        379KB  2020-11-19 07:38:44          27019  \n",
            "datasnaek/youtube-new                                     Trending YouTube Video Statistics            201MB  2019-06-03 00:56:47         128457  \n",
            "google/tinyquickdraw                                      QuickDraw Sketches                            11GB  2018-04-18 19:38:04           2852  \n",
            "zynicide/wine-reviews                                     Wine Reviews                                  51MB  2017-11-27 17:08:04         129084  \n",
            "datasnaek/chess                                           Chess Game Dataset (Lichess)                   3MB  2017-09-04 03:09:09          14985  \n",
            "Downloading pins-face-recognition.zip to /usr/local\n",
            " 99% 367M/372M [00:05<00:00, 33.9MB/s]\n",
            "100% 372M/372M [00:05<00:00, 66.7MB/s]\n"
          ],
          "name": "stdout"
        }
      ]
    },
    {
      "cell_type": "code",
      "metadata": {
        "id": "WjwC3ChR8dLx"
      },
      "source": [
        "def load_image(image_path):\r\n",
        "  img = cv2.imread(image_path)\r\n",
        "  img = tf.convert_to_tensor(img,dtype=tf.float32)\r\n",
        "  img = tf.image.resize(img, (64,64))\r\n",
        "  img = tf.keras.applications.mobilenet_v2.preprocess_input(img)\r\n",
        "  return img"
      ],
      "execution_count": 3,
      "outputs": []
    },
    {
      "cell_type": "code",
      "metadata": {
        "colab": {
          "base_uri": "https://localhost:8080/"
        },
        "id": "Akwo5cMSGMZj",
        "outputId": "e9fe8f8f-58fd-4194-aadb-a5e206ad01a5"
      },
      "source": [
        "!pip install tqdm\r\n",
        "from tqdm import tqdm"
      ],
      "execution_count": 4,
      "outputs": [
        {
          "output_type": "stream",
          "text": [
            "Requirement already satisfied: tqdm in /usr/local/lib/python3.7/dist-packages (4.41.1)\n"
          ],
          "name": "stdout"
        }
      ]
    },
    {
      "cell_type": "code",
      "metadata": {
        "colab": {
          "base_uri": "https://localhost:8080/"
        },
        "id": "x3e6GvfY9MqM",
        "outputId": "d43de314-7fdb-4dff-e84c-fb231ed47e17"
      },
      "source": [
        "path = '/usr/local/105_classes_pins_dataset/'\r\n",
        "faces = []\r\n",
        "for actor in tqdm(os.listdir(path)):\r\n",
        "  faces.append([load_image(path+actor+'/'+actor_name) for actor_name in os.listdir(os.path.join(path,actor))])"
      ],
      "execution_count": 5,
      "outputs": [
        {
          "output_type": "stream",
          "text": [
            "100%|██████████| 105/105 [00:38<00:00,  2.73it/s]\n"
          ],
          "name": "stderr"
        }
      ]
    },
    {
      "cell_type": "code",
      "metadata": {
        "id": "g-FyT2yCAH8g"
      },
      "source": [
        "from google.colab import files\r\n",
        "files.upload()\r\n",
        "#I must manually import my cropped dataset\r\n",
        "!mkdir datasets\r\n",
        "!unzip bollywood_celeb_faces.zip -d ./datasets"
      ],
      "execution_count": null,
      "outputs": []
    },
    {
      "cell_type": "code",
      "metadata": {
        "id": "5awt0Y_PARSY"
      },
      "source": [
        "def load_img(image_path):\r\n",
        "  with open(image_path, 'rb') as f:\r\n",
        "    return np.load(f)"
      ],
      "execution_count": 7,
      "outputs": []
    },
    {
      "cell_type": "code",
      "metadata": {
        "id": "QTDFlUWQATV4"
      },
      "source": [
        "path = './datasets/usr/local/numpy/bollywood_celeb_faces/'\r\n",
        "for actor in os.listdir(path):\r\n",
        "  faces.append([load_img(path+'/'+actor+'/'+actor_img) for actor_img in os.listdir(os.path.join(path,actor))])"
      ],
      "execution_count": 8,
      "outputs": []
    },
    {
      "cell_type": "code",
      "metadata": {
        "id": "ELb-UuVFChv-"
      },
      "source": [
        "pairs1 = []\r\n",
        "pairs2 = []\r\n",
        "#produces about 500,000 image pairs, so we only take 50,000 for training time\r\n",
        "total = 50000\r\n",
        "labels = []\r\n",
        "#distance between congruent faces is 0\r\n",
        "congruent_label = np.asarray([0])\r\n",
        "for class_ in faces:\r\n",
        "  for i in range(total // len(faces)):\r\n",
        "    j = random.randint(0,len(class_)-2)\r\n",
        "    k = random.randint(j+1, len(class_)-1)\r\n",
        "    pairs1.append(class_[j])\r\n",
        "    pairs2.append(class_[k])\r\n",
        "    labels.append(congruent_label)\r\n",
        "#all non congruent pairs form 40m pairs which is far too much, \r\n",
        "#so we will randomly choose 50,000\r\n",
        "#giving us a more reasonable 100,000 total images, since a lot of epochs will be required\r\n",
        "#distant pairs will have a sigmoided distance of 1\r\n",
        "non_congruent_label = np.asarray([1])\r\n",
        "for i in range(total):\r\n",
        "  j = random.randint(0,len(faces)-2)\r\n",
        "  k = random.randint(j+1,len(faces)-1)\r\n",
        "  l = random.randint(0,len(faces[j])-1)\r\n",
        "  m = random.randint(0,len(faces[k])-1)\r\n",
        "  pairs1.append(faces[j][l])\r\n",
        "  pairs2.append(faces[k][m])\r\n",
        "  labels.append(non_congruent_label)"
      ],
      "execution_count": 9,
      "outputs": []
    },
    {
      "cell_type": "code",
      "metadata": {
        "id": "yXyZ6cbvF47s",
        "colab": {
          "base_uri": "https://localhost:8080/"
        },
        "outputId": "ea3858bb-6c8e-406e-9045-977c52233dda"
      },
      "source": [
        "print(len(pairs1))\r\n",
        "del faces"
      ],
      "execution_count": 10,
      "outputs": [
        {
          "output_type": "stream",
          "text": [
            "99815\n"
          ],
          "name": "stdout"
        }
      ]
    },
    {
      "cell_type": "code",
      "metadata": {
        "id": "Q3Yc9D2vFpw9"
      },
      "source": [
        "def shuffle_in_unison(a, b, c):\r\n",
        "    shuffled_a = np.empty((len(a),64,64,3), dtype=np.float32)\r\n",
        "    shuffled_b = np.empty((len(a),64,64,3), dtype=np.float32)\r\n",
        "    shuffled_c = np.empty((len(c),1), dtype=np.float32)\r\n",
        "    permutation = np.random.permutation(len(a))\r\n",
        "    for old_index, new_index in enumerate(permutation):\r\n",
        "        shuffled_a[new_index] = a[old_index]\r\n",
        "        shuffled_b[new_index] = b[old_index]\r\n",
        "        shuffled_c[new_index] = c[old_index]\r\n",
        "    return shuffled_a, shuffled_b, shuffled_c\r\n",
        "pairs1, pairs2, labels = shuffle_in_unison(pairs1, pairs2, labels)"
      ],
      "execution_count": 11,
      "outputs": []
    },
    {
      "cell_type": "code",
      "metadata": {
        "id": "3Jc0XEPWDTHq",
        "colab": {
          "base_uri": "https://localhost:8080/",
          "height": 162
        },
        "outputId": "6af70953-bf2e-4a7b-85d5-537b6585e869"
      },
      "source": [
        "from google.colab.patches import cv2_imshow\r\n",
        "test_number = 16\r\n",
        "cv2_imshow((pairs1[test_number]+1)*127.5)\r\n",
        "cv2_imshow((pairs2[test_number]+1)*127.5)\r\n",
        "print('label: ', str(labels[test_number]))"
      ],
      "execution_count": 12,
      "outputs": [
        {
          "output_type": "display_data",
          "data": {
            "image/png": "[encoded data removed]",
            "text/plain": [
              "<PIL.Image.Image image mode=RGB size=64x64 at 0x7F0708849090>"
            ]
          },
          "metadata": {
            "tags": []
          }
        },
        {
          "output_type": "display_data",
          "data": {
            "image/png": "[encoded data removed]",
            "text/plain": [
              "<PIL.Image.Image image mode=RGB size=64x64 at 0x7F070F785110>"
            ]
          },
          "metadata": {
            "tags": []
          }
        },
        {
          "output_type": "stream",
          "text": [
            "label:  [0.]\n"
          ],
          "name": "stdout"
        }
      ]
    },
    {
      "cell_type": "code",
      "metadata": {
        "id": "9PEnWbEbwo58"
      },
      "source": [
        "class CNN_Block(tf.keras.Model):\r\n",
        "  def __init__(self, num_filters, conv_size):\r\n",
        "    super(CNN_Block, self).__init__()\r\n",
        "    self.conv = Conv2D(num_filters, conv_size, padding='same')\r\n",
        "    self.bn = BatchNormalization()\r\n",
        "    self.pool = MaxPool2D()\r\n",
        "\r\n",
        "  def call(self, x):\r\n",
        "    x = self.conv(x)\r\n",
        "    x = self.bn(x)\r\n",
        "    x = tf.nn.relu(x)\r\n",
        "    x = self.pool(x)\r\n",
        "    return x"
      ],
      "execution_count": 13,
      "outputs": []
    },
    {
      "cell_type": "code",
      "metadata": {
        "id": "Pa-dasdwCcrK"
      },
      "source": [
        "class Encoder(tf.keras.Model):\r\n",
        "  def __init__(self):\r\n",
        "    super(Encoder, self).__init__()\r\n",
        "    self.block1 = CNN_Block(32, 3)\r\n",
        "    self.block2 = CNN_Block(64, 3)\r\n",
        "    self.block3 = CNN_Block(128, 3)\r\n",
        "    self.block4 = CNN_Block(256, 3)\r\n",
        "    self.flatten = Flatten()\r\n",
        "    self.dense = Dense(1024, activation='relu')\r\n",
        "\r\n",
        "  def call(self, x):\r\n",
        "    x = self.block1(x)\r\n",
        "    x = self.block2(x)\r\n",
        "    x = self.block3(x)\r\n",
        "    x = self.block4(x)\r\n",
        "    x = self.flatten(x)\r\n",
        "    x = self.dense(x)\r\n",
        "    return x"
      ],
      "execution_count": 14,
      "outputs": []
    },
    {
      "cell_type": "code",
      "metadata": {
        "id": "JXGJx49Jy6XR"
      },
      "source": [
        "class Euclidean_Distance(tf.keras.Model):\r\n",
        "  def __init__(self):\r\n",
        "    super(Euclidean_Distance, self).__init__()\r\n",
        "    self.dense1 = Dense(512)\r\n",
        "    self.dense2 = Dense(1, activation='sigmoid')\r\n",
        "\r\n",
        "  def call(self, xA, xB):\r\n",
        "    xA = self.dense1(xA)\r\n",
        "    xA = tf.nn.leaky_relu(xA)\r\n",
        "    xB = self.dense1(xB)\r\n",
        "    xB = tf.nn.leaky_relu(xB)\r\n",
        "    dist = xA-xB\r\n",
        "    x = self.dense2(dist)\r\n",
        "    return x"
      ],
      "execution_count": 26,
      "outputs": []
    },
    {
      "cell_type": "code",
      "metadata": {
        "id": "BqiEbzfM_oNJ"
      },
      "source": [
        "def build_model():\r\n",
        "  imgA = Input((64,64,3), dtype=tf.float32, name='inputA')\r\n",
        "  imgB = Input((64,64,3), dtype=tf.float32, name='inputB')\r\n",
        "\r\n",
        "  encoder = Encoder()\r\n",
        "  featA = encoder(imgA)\r\n",
        "  featB = encoder(imgB)\r\n",
        "\r\n",
        "  dist = Euclidean_Distance()\r\n",
        "  outputs = dist(featA, featB)\r\n",
        "\r\n",
        "  model = tf.keras.Model(inputs=(imgA, imgB),outputs=outputs)\r\n",
        "  optimizer = tf.keras.optimizers.Adam(learning_rate=0.0005)\r\n",
        "  model.compile(loss='binary_crossentropy',optimizer=optimizer, metrics='accuracy')\r\n",
        "  model.summary()\r\n",
        "  return model"
      ],
      "execution_count": 22,
      "outputs": []
    },
    {
      "cell_type": "code",
      "metadata": {
        "id": "bpSYGtR7VjZP",
        "colab": {
          "base_uri": "https://localhost:8080/"
        },
        "outputId": "d5a702fb-f674-4b9e-f35f-0e6727f66871"
      },
      "source": [
        "with tf.device('gpu:0'):\r\n",
        "  inputs = {'inputA':pairs1, 'inputB':pairs2}\r\n",
        "  model = build_model()\r\n",
        "  model.fit(inputs, labels, epochs=100, batch_size=64)"
      ],
      "execution_count": 27,
      "outputs": [
        {
          "output_type": "stream",
          "text": [
            "Model: \"model_1\"\n",
            "__________________________________________________________________________________________________\n",
            "Layer (type)                    Output Shape         Param #     Connected to                     \n",
            "==================================================================================================\n",
            "inputA (InputLayer)             [(None, 64, 64, 3)]  0                                            \n",
            "__________________________________________________________________________________________________\n",
            "inputB (InputLayer)             [(None, 64, 64, 3)]  0                                            \n",
            "__________________________________________________________________________________________________\n",
            "encoder_4 (Encoder)             (None, 1024)         4585664     inputA[0][0]                     \n",
            "                                                                 inputB[0][0]                     \n",
            "__________________________________________________________________________________________________\n",
            "euclidean__distance_4 (Euclidea (None, 1)            525313      encoder_4[0][0]                  \n",
            "                                                                 encoder_4[1][0]                  \n",
            "==================================================================================================\n",
            "Total params: 5,110,977\n",
            "Trainable params: 5,110,017\n",
            "Non-trainable params: 960\n",
            "__________________________________________________________________________________________________\n",
            "Epoch 1/100\n",
            "1560/1560 [==============================] - 44s 27ms/step - loss: 0.6660 - accuracy: 0.5990\n",
            "Epoch 2/100\n",
            "1560/1560 [==============================] - 43s 27ms/step - loss: 0.5848 - accuracy: 0.6720\n",
            "Epoch 3/100\n",
            "1560/1560 [==============================] - 43s 27ms/step - loss: 0.5354 - accuracy: 0.7205\n",
            "Epoch 4/100\n",
            "1560/1560 [==============================] - 43s 27ms/step - loss: 0.4844 - accuracy: 0.7586\n",
            "Epoch 5/100\n",
            "1560/1560 [==============================] - 43s 27ms/step - loss: 0.4417 - accuracy: 0.7890\n",
            "Epoch 6/100\n",
            "1560/1560 [==============================] - 43s 27ms/step - loss: 0.4055 - accuracy: 0.8099\n",
            "Epoch 7/100\n",
            "1560/1560 [==============================] - 42s 27ms/step - loss: 0.3802 - accuracy: 0.8268\n",
            "Epoch 8/100\n",
            "1560/1560 [==============================] - 43s 27ms/step - loss: 0.3537 - accuracy: 0.8430\n",
            "Epoch 9/100\n",
            "1560/1560 [==============================] - 43s 27ms/step - loss: 0.3367 - accuracy: 0.8501\n",
            "Epoch 10/100\n",
            "1560/1560 [==============================] - 43s 27ms/step - loss: 0.3231 - accuracy: 0.8587\n",
            "Epoch 11/100\n",
            "1560/1560 [==============================] - 43s 27ms/step - loss: 0.3108 - accuracy: 0.8654\n",
            "Epoch 12/100\n",
            "1560/1560 [==============================] - 43s 27ms/step - loss: 0.3002 - accuracy: 0.8705\n",
            "Epoch 13/100\n",
            "1560/1560 [==============================] - 43s 27ms/step - loss: 0.2905 - accuracy: 0.8743\n",
            "Epoch 14/100\n",
            "1560/1560 [==============================] - 43s 27ms/step - loss: 0.2804 - accuracy: 0.8807\n",
            "Epoch 15/100\n",
            "1560/1560 [==============================] - 43s 27ms/step - loss: 0.2750 - accuracy: 0.8821\n",
            "Epoch 16/100\n",
            "1560/1560 [==============================] - 43s 28ms/step - loss: 0.2666 - accuracy: 0.8874\n",
            "Epoch 17/100\n",
            "1560/1560 [==============================] - 43s 28ms/step - loss: 0.2606 - accuracy: 0.8886\n",
            "Epoch 18/100\n",
            "1560/1560 [==============================] - 43s 27ms/step - loss: 0.2570 - accuracy: 0.8924\n",
            "Epoch 19/100\n",
            "1560/1560 [==============================] - 43s 28ms/step - loss: 0.2466 - accuracy: 0.8955\n",
            "Epoch 20/100\n",
            "1560/1560 [==============================] - 43s 27ms/step - loss: 0.2437 - accuracy: 0.8969\n",
            "Epoch 21/100\n",
            "1560/1560 [==============================] - 43s 27ms/step - loss: 0.2378 - accuracy: 0.9001\n",
            "Epoch 22/100\n",
            "1560/1560 [==============================] - 43s 27ms/step - loss: 0.2309 - accuracy: 0.9022\n",
            "Epoch 23/100\n",
            "1560/1560 [==============================] - 43s 27ms/step - loss: 0.2254 - accuracy: 0.9059\n",
            "Epoch 24/100\n",
            "1560/1560 [==============================] - 43s 27ms/step - loss: 0.2225 - accuracy: 0.9071\n",
            "Epoch 25/100\n",
            "1560/1560 [==============================] - 43s 27ms/step - loss: 0.2184 - accuracy: 0.9098\n",
            "Epoch 26/100\n",
            "1560/1560 [==============================] - 43s 27ms/step - loss: 0.2166 - accuracy: 0.9102\n",
            "Epoch 27/100\n",
            "1560/1560 [==============================] - 43s 27ms/step - loss: 0.2127 - accuracy: 0.9121\n",
            "Epoch 28/100\n",
            "1560/1560 [==============================] - 43s 27ms/step - loss: 0.2036 - accuracy: 0.9158\n",
            "Epoch 29/100\n",
            "1560/1560 [==============================] - 43s 27ms/step - loss: 0.2064 - accuracy: 0.9139\n",
            "Epoch 30/100\n",
            "1560/1560 [==============================] - 43s 27ms/step - loss: 0.1980 - accuracy: 0.9187\n",
            "Epoch 31/100\n",
            "1560/1560 [==============================] - 43s 27ms/step - loss: 0.1995 - accuracy: 0.9173\n",
            "Epoch 32/100\n",
            "1560/1560 [==============================] - 43s 27ms/step - loss: 0.1918 - accuracy: 0.9214\n",
            "Epoch 33/100\n",
            "1560/1560 [==============================] - 43s 27ms/step - loss: 0.1909 - accuracy: 0.9225\n",
            "Epoch 34/100\n",
            "1560/1560 [==============================] - 43s 27ms/step - loss: 0.1889 - accuracy: 0.9243\n",
            "Epoch 35/100\n",
            "1560/1560 [==============================] - 43s 27ms/step - loss: 0.1878 - accuracy: 0.9244\n",
            "Epoch 36/100\n",
            "1560/1560 [==============================] - 43s 27ms/step - loss: 0.1865 - accuracy: 0.9248\n",
            "Epoch 37/100\n",
            "1560/1560 [==============================] - 43s 27ms/step - loss: 0.1796 - accuracy: 0.9264\n",
            "Epoch 38/100\n",
            "1560/1560 [==============================] - 43s 27ms/step - loss: 0.1772 - accuracy: 0.9283\n",
            "Epoch 39/100\n",
            "1560/1560 [==============================] - 43s 27ms/step - loss: 0.1771 - accuracy: 0.9291\n",
            "Epoch 40/100\n",
            "1560/1560 [==============================] - 43s 27ms/step - loss: 0.1755 - accuracy: 0.9285\n",
            "Epoch 41/100\n",
            "1560/1560 [==============================] - 43s 27ms/step - loss: 0.1717 - accuracy: 0.9303\n",
            "Epoch 42/100\n",
            "1560/1560 [==============================] - 43s 27ms/step - loss: 0.1736 - accuracy: 0.9286\n",
            "Epoch 43/100\n",
            "1560/1560 [==============================] - 43s 27ms/step - loss: 0.1684 - accuracy: 0.9332\n",
            "Epoch 44/100\n",
            "1560/1560 [==============================] - 43s 27ms/step - loss: 0.1666 - accuracy: 0.9332\n",
            "Epoch 45/100\n",
            "1560/1560 [==============================] - 43s 27ms/step - loss: 0.1623 - accuracy: 0.9345\n",
            "Epoch 46/100\n",
            "1560/1560 [==============================] - 43s 27ms/step - loss: 0.1623 - accuracy: 0.9341\n",
            "Epoch 47/100\n",
            "1560/1560 [==============================] - 43s 27ms/step - loss: 0.1591 - accuracy: 0.9363\n",
            "Epoch 48/100\n",
            "1560/1560 [==============================] - 43s 27ms/step - loss: 0.1587 - accuracy: 0.9358\n",
            "Epoch 49/100\n",
            "1560/1560 [==============================] - 43s 27ms/step - loss: 0.1582 - accuracy: 0.9373\n",
            "Epoch 50/100\n",
            "1560/1560 [==============================] - 43s 27ms/step - loss: 0.1571 - accuracy: 0.9361\n",
            "Epoch 51/100\n",
            "1560/1560 [==============================] - 43s 27ms/step - loss: 0.1520 - accuracy: 0.9398\n",
            "Epoch 52/100\n",
            "1560/1560 [==============================] - 43s 27ms/step - loss: 0.1529 - accuracy: 0.9389\n",
            "Epoch 53/100\n",
            "1560/1560 [==============================] - 43s 28ms/step - loss: 0.1518 - accuracy: 0.9391\n",
            "Epoch 54/100\n",
            "1560/1560 [==============================] - 43s 27ms/step - loss: 0.1504 - accuracy: 0.9407\n",
            "Epoch 55/100\n",
            "1560/1560 [==============================] - 43s 28ms/step - loss: 0.1469 - accuracy: 0.9417\n",
            "Epoch 56/100\n",
            "1560/1560 [==============================] - 43s 27ms/step - loss: 0.1448 - accuracy: 0.9428\n",
            "Epoch 57/100\n",
            "1560/1560 [==============================] - 43s 27ms/step - loss: 0.1437 - accuracy: 0.9424\n",
            "Epoch 58/100\n",
            "1560/1560 [==============================] - 43s 27ms/step - loss: 0.1451 - accuracy: 0.9435\n",
            "Epoch 59/100\n",
            "1560/1560 [==============================] - 43s 27ms/step - loss: 0.1418 - accuracy: 0.9446\n",
            "Epoch 60/100\n",
            "1560/1560 [==============================] - 43s 28ms/step - loss: 0.1385 - accuracy: 0.9466\n",
            "Epoch 61/100\n",
            "1560/1560 [==============================] - 43s 27ms/step - loss: 0.1387 - accuracy: 0.9446\n",
            "Epoch 62/100\n",
            "1560/1560 [==============================] - 43s 28ms/step - loss: 0.1376 - accuracy: 0.9456\n",
            "Epoch 63/100\n",
            "1560/1560 [==============================] - 43s 28ms/step - loss: 0.1344 - accuracy: 0.9481\n",
            "Epoch 64/100\n",
            "1560/1560 [==============================] - 43s 27ms/step - loss: 0.1315 - accuracy: 0.9487\n",
            "Epoch 65/100\n",
            "1560/1560 [==============================] - 43s 28ms/step - loss: 0.1349 - accuracy: 0.9471\n",
            "Epoch 66/100\n",
            "1560/1560 [==============================] - 43s 28ms/step - loss: 0.1315 - accuracy: 0.9492\n",
            "Epoch 67/100\n",
            "1560/1560 [==============================] - 43s 28ms/step - loss: 0.1323 - accuracy: 0.9485\n",
            "Epoch 68/100\n",
            "1560/1560 [==============================] - 43s 28ms/step - loss: 0.1301 - accuracy: 0.9485\n",
            "Epoch 69/100\n",
            "1560/1560 [==============================] - 43s 28ms/step - loss: 0.1262 - accuracy: 0.9507\n",
            "Epoch 70/100\n",
            "1560/1560 [==============================] - 43s 28ms/step - loss: 0.1273 - accuracy: 0.9512\n",
            "Epoch 71/100\n",
            "1560/1560 [==============================] - 43s 28ms/step - loss: 0.1250 - accuracy: 0.9515\n",
            "Epoch 72/100\n",
            "1560/1560 [==============================] - 43s 28ms/step - loss: 0.1220 - accuracy: 0.9520\n",
            "Epoch 73/100\n",
            "1560/1560 [==============================] - 43s 28ms/step - loss: 0.1228 - accuracy: 0.9520\n",
            "Epoch 74/100\n",
            "1560/1560 [==============================] - 43s 28ms/step - loss: 0.1227 - accuracy: 0.9514\n",
            "Epoch 75/100\n",
            "1560/1560 [==============================] - 43s 28ms/step - loss: 0.1219 - accuracy: 0.9527\n",
            "Epoch 76/100\n",
            "1560/1560 [==============================] - 43s 28ms/step - loss: 0.1180 - accuracy: 0.9548\n",
            "Epoch 77/100\n",
            "1560/1560 [==============================] - 43s 28ms/step - loss: 0.1181 - accuracy: 0.9543\n",
            "Epoch 78/100\n",
            "1560/1560 [==============================] - 43s 28ms/step - loss: 0.1172 - accuracy: 0.9544\n",
            "Epoch 79/100\n",
            "1560/1560 [==============================] - 43s 28ms/step - loss: 0.1164 - accuracy: 0.9565\n",
            "Epoch 80/100\n",
            "1560/1560 [==============================] - 43s 28ms/step - loss: 0.1161 - accuracy: 0.9553\n",
            "Epoch 81/100\n",
            "1560/1560 [==============================] - 43s 28ms/step - loss: 0.1191 - accuracy: 0.9537\n",
            "Epoch 82/100\n",
            "1560/1560 [==============================] - 43s 28ms/step - loss: 0.1142 - accuracy: 0.9559\n",
            "Epoch 83/100\n",
            "1560/1560 [==============================] - 43s 28ms/step - loss: 0.1133 - accuracy: 0.9562\n",
            "Epoch 84/100\n",
            "1560/1560 [==============================] - 43s 28ms/step - loss: 0.1137 - accuracy: 0.9563\n",
            "Epoch 85/100\n",
            "1560/1560 [==============================] - 43s 28ms/step - loss: 0.1119 - accuracy: 0.9572\n",
            "Epoch 86/100\n",
            "1560/1560 [==============================] - 43s 28ms/step - loss: 0.1110 - accuracy: 0.9571\n",
            "Epoch 87/100\n",
            "1560/1560 [==============================] - 43s 28ms/step - loss: 0.1106 - accuracy: 0.9566\n",
            "Epoch 88/100\n",
            "1560/1560 [==============================] - 43s 28ms/step - loss: 0.1091 - accuracy: 0.9593\n",
            "Epoch 89/100\n",
            "1560/1560 [==============================] - 43s 28ms/step - loss: 0.1096 - accuracy: 0.9574\n",
            "Epoch 90/100\n",
            "1560/1560 [==============================] - 43s 28ms/step - loss: 0.1055 - accuracy: 0.9601\n",
            "Epoch 91/100\n",
            "1560/1560 [==============================] - 43s 28ms/step - loss: 0.1052 - accuracy: 0.9594\n",
            "Epoch 92/100\n",
            "1560/1560 [==============================] - 43s 28ms/step - loss: 0.1063 - accuracy: 0.9593\n",
            "Epoch 93/100\n",
            "1560/1560 [==============================] - 43s 28ms/step - loss: 0.1040 - accuracy: 0.9607\n",
            "Epoch 94/100\n",
            "1560/1560 [==============================] - 43s 28ms/step - loss: 0.1051 - accuracy: 0.9599\n",
            "Epoch 95/100\n",
            "1560/1560 [==============================] - 43s 28ms/step - loss: 0.1061 - accuracy: 0.9595\n",
            "Epoch 96/100\n",
            "1560/1560 [==============================] - 43s 28ms/step - loss: 0.1015 - accuracy: 0.9621\n",
            "Epoch 97/100\n",
            "1560/1560 [==============================] - 43s 28ms/step - loss: 0.1014 - accuracy: 0.9614\n",
            "Epoch 98/100\n",
            "1560/1560 [==============================] - 43s 28ms/step - loss: 0.0987 - accuracy: 0.9623\n",
            "Epoch 99/100\n",
            "1560/1560 [==============================] - 43s 28ms/step - loss: 0.0999 - accuracy: 0.9619\n",
            "Epoch 100/100\n",
            "1560/1560 [==============================] - 43s 28ms/step - loss: 0.1007 - accuracy: 0.9618\n"
          ],
          "name": "stdout"
        }
      ]
    },
    {
      "cell_type": "code",
      "metadata": {
        "id": "YGyKWN3oJcyx",
        "colab": {
          "base_uri": "https://localhost:8080/",
          "height": 179
        },
        "outputId": "48be4f44-aabf-4e10-f1f2-cc98537d676f"
      },
      "source": [
        "out = model({'inputA':np.expand_dims(pairs1[600],axis=0),'inputB':np.expand_dims(pairs2[600],axis=0)})\r\n",
        "from google.colab.patches import cv2_imshow\r\n",
        "cv2_imshow((pairs1[600]+1)*127.5)\r\n",
        "cv2_imshow((pairs2[600]+1)*127.5)\r\n",
        "print('label: ', str(labels[600]))\r\n",
        "print('Model pred: ',str(out.numpy()))"
      ],
      "execution_count": 28,
      "outputs": [
        {
          "output_type": "display_data",
          "data": {
            "image/png": "[encoded data removed]",
            "text/plain": [
              "<PIL.Image.Image image mode=RGB size=64x64 at 0x7F069FEEC290>"
            ]
          },
          "metadata": {
            "tags": []
          }
        },
        {
          "output_type": "display_data",
          "data": {
            "image/png": "[encoded data removed]",
            "text/plain": [
              "<PIL.Image.Image image mode=RGB size=64x64 at 0x7F069FF34750>"
            ]
          },
          "metadata": {
            "tags": []
          }
        },
        {
          "output_type": "stream",
          "text": [
            "label:  [0.]\n",
            "Model pred:  [[0.25518537]]\n"
          ],
          "name": "stdout"
        }
      ]
    },
    {
      "cell_type": "code",
      "metadata": {
        "id": "oFnOuBNTPwyO"
      },
      "source": [
        "model.save_weights('face_recogniton.h5')"
      ],
      "execution_count": 29,
      "outputs": []
    }
  ]
}